{
 "cells": [
  {
   "cell_type": "code",
   "execution_count": 2,
   "id": "f3c5a141",
   "metadata": {},
   "outputs": [],
   "source": [
    "import json\n",
    "from tqdm import tqdm\n",
    "import matplotlib.pyplot as plt\n",
    "import os"
   ]
  },
  {
   "cell_type": "code",
   "execution_count": 5,
   "id": "cf17fc30",
   "metadata": {},
   "outputs": [
    {
     "name": "stdout",
     "output_type": "stream",
     "text": [
      "Found: 3972 total text files downloaded\n",
      "size range: 2323 - 28262520\n"
     ]
    }
   ],
   "source": [
    "downloaded = set()\n",
    "sizes = []\n",
    "\n",
    "for root, dirs, files in os.walk('./downloads'):\n",
    "    for file in files:\n",
    "        if file.endswith(\".txt\"):\n",
    "            file_path = os.path.join(root, file)\n",
    "            file_size = os.path.getsize(file_path)\n",
    "            ident = root.split('/')[-1]\n",
    "            \n",
    "            downloaded.add(ident)\n",
    "            sizes.append((file_size, file_path))\n",
    "sizevals = set([s[0] for s in sizes])\n",
    "\n",
    "print(f\"Found: {len(downloaded)} total text files downloaded\")\n",
    "print(f\"size range: {min(sizevals)} - {max(sizevals)}\")"
   ]
  },
  {
   "cell_type": "code",
   "execution_count": 6,
   "id": "69850ec4",
   "metadata": {},
   "outputs": [
    {
     "name": "stdout",
     "output_type": "stream",
     "text": [
      "(2323, './downloads/abcbook0000fall/abcbook0000fall_djvu.txt')\n",
      "(2719, './downloads/103dcongress1sts0000unse_s.1719/103dcongress1sts0000unse_s.1719_djvu.txt')\n",
      "(2891, './downloads/ahoytherelittlep00debe/ahoytherelittlep00debe_djvu.txt')\n",
      "(3111, './downloads/2equatuorpour2vi0000sain/2equatuorpour2vi0000sain_djvu.txt')\n",
      "(3788, './downloads/45rpmtest00unse/45rpmtest00unse_djvu.txt')\n",
      "(4733, './downloads/amongmysouvenirs00nich/amongmysouvenirs00nich_djvu.txt')\n",
      "(5085, './downloads/1963censustest00bost/1963censustest00bost_djvu.txt')\n",
      "(5708, './downloads/2esymphonie1918p0000milh/2esymphonie1918p0000milh_djvu.txt')\n",
      "(7904, './downloads/103dcongress1sts0000unse_s.1595/103dcongress1sts0000unse_s.1595_djvu.txt')\n",
      "(9782, './downloads/21stcenturyjumbo0000aaro/21stcenturyjumbo0000aaro_djvu.txt')\n"
     ]
    }
   ],
   "source": [
    "sizes = sorted(sizes, key=lambda s: s[0])\n",
    "for s in sizes[:10]:\n",
    "    print(s)"
   ]
  },
  {
   "cell_type": "code",
   "execution_count": 20,
   "id": "bb7eb2ac",
   "metadata": {},
   "outputs": [
    {
     "name": "stdout",
     "output_type": "stream",
     "text": [
      "[{'identifier': '0-89178-034-0', 'creator': 'Saint Louis Art Museum', 'year': 1991, 'title': 'The Saint Louis Art Museum Handbook of the Collections'}, {'identifier': '0-89178-042-4', 'creator': 'Barbara Butts, Joseph Leo Koerner, Betha Whitlow, Pieter Bruegel, Saint Louis Art Museum, Arthur M. Sackler Museum', 'year': 1995, 'title': 'The Printed World of Pieter Bruegel the Elder'}, {'identifier': '0-89178-075-0', 'creator': 'Ann Lane Hedlund, Bill Pearson, Saint Louis Art Museum', 'year': 1997, 'title': 'Navajo Weavings from the Andy Williams Collection'}, {'identifier': '0-89178-080-7', 'creator': 'David H. Conradsen; with a foreword by Patricia E. Kane', 'year': 1999, 'title': 'Useful Beauty: Early American Decorative Arts from St. Louis Collections'}, {'identifier': '0891780239', 'creator': 'Nancy Ward Neilson', 'year': 1977, 'title': 'Five Centuries of Master Graphics in the Collection of the St. Louis Art Museum'}, {'identifier': '0891780432', 'creator': 'Joyce K. Schiller', 'year': 1995, 'title': 'The Art of Bessie Lowenhaupt, St. Louis Painter'}, {'identifier': '0891780440', 'creator': 'Ellan P. Conant, in collaboration with Steven D. Owyoung and J. Thomas Rimer', 'year': 1995, 'title': 'Nihonga: Transcending the Past'}, {'identifier': '1-930723-31-8', 'creator': 'Francesca Herndon-Consagra', 'year': 2004, 'title': 'The Illustrated Garden: Books from the Missouri Botanical Garden, 1485–1855: An Exhibition at the Saint Louis Art Museum'}, {'identifier': '1000bibledrillqu00mccr', 'creator': 'McCreary, William Burgess, 1894-', 'year': 1926, 'title': '1,000 Bible drill questions'}, {'identifier': '1000citychurches0000doug', 'creator': 'Douglass, H. Paul (Harlan Paul), 1871-1953', 'year': 1926, 'title': '1000 city churches : phases of adaptation to urban environment'}]\n",
      "4103\n"
     ]
    }
   ],
   "source": [
    "with open('available_books.json') as file:\n",
    "    full = json.load(file)\n",
    "\n",
    "available = [item for item in full if item['identifier'] in downloaded]\n",
    "print(available[:10])\n",
    "print(len(available))"
   ]
  },
  {
   "cell_type": "code",
   "execution_count": 21,
   "id": "85b314cc",
   "metadata": {},
   "outputs": [
    {
     "name": "stdout",
     "output_type": "stream",
     "text": [
      "dict_keys(['identifier', 'creator', 'year', 'title'])\n"
     ]
    }
   ],
   "source": [
    "print(available[0].keys())"
   ]
  },
  {
   "cell_type": "code",
   "execution_count": 35,
   "id": "d526b48d",
   "metadata": {},
   "outputs": [],
   "source": [
    "creator_counts = {}\n",
    "for item in available:\n",
    "    if 'creator' in item:\n",
    "        auth = str(item['creator'])\n",
    "    else:\n",
    "        auth = 'UNLISTED'\n",
    "    \n",
    "    if 'year' in item:\n",
    "        year = item['year']\n",
    "    else:\n",
    "        continue\n",
    "    \n",
    "    creator_counts[auth] = creator_counts.get(auth, [])+[year]"
   ]
  },
  {
   "cell_type": "code",
   "execution_count": 45,
   "id": "e676f7f0",
   "metadata": {
    "scrolled": false
   },
   "outputs": [
    {
     "name": "stdout",
     "output_type": "stream",
     "text": [
      "Total # of auths: 2221\n",
      "\n",
      "826 1033 2001 UNLISTED\n",
      " 54 1920 1920 Modern Humanities Research Association\n",
      " 48 1889 1925 American Historical Association\n",
      " 45 1895 1895 Smithsonian Institution. Bureau of American Ethnology\n",
      " 39 1920 1920 American Schools of Oriental Research\n",
      " 35 1888 1927 various\n",
      " 34 1879 1879 Free Methodist Church of North America\n",
      " 32 1922 1922 Carnegie Corporation of New York\n",
      " 31 1907 1907 Carnegie Hero Fund Commission\n",
      " 30 1880 1880 Smithsonian Institution. Bureau of Ethnology\n",
      " 24 1908 1911 American Baptist Convention\n",
      " 23 1906 1906 Champlain Society\n",
      " 23 1915 1915 Federal Reserve Bank of New York\n",
      " 21 1970 1991 United States. Bureau of the Census\n",
      " 13 1839 1927 Various\n",
      " 13 1901 1901 Philippine Episcopal Church. Missionary District of the Philippine Islands\n",
      " 12 1819 1819 Methodist Episcopal Church. Missionary Society\n",
      " 11 1993 1993 United States. Congress. Senate\n",
      " 11 1868 1923 joseph whitaker\n",
      " 11 1891 1992 Twain, Mark, 1835-1910\n",
      " 11 1925 1926 United Church of Canada. Board of Evangelism and Social Service\n",
      " 11 1907 1907 Methodist Episcopal Church. Board of Foreign Missions\n",
      " 11 1853 1853 Hawaiian Mission Children's Society\n",
      " 10 1913 1913 Federal Council of the Churches of Christ in America\n",
      "  9 1875 1927 Mark Twain\n",
      "  9 1850 1922 Various Author\n",
      "  9 1874 1874 D. Buchner, D.R. Grundemann & D. Gustav Warneck\n",
      "  9 1899 1916 Cyrus Adler\n",
      "  9 1854 1921 Swedenborg, Emanuel, 1688-1772\n",
      "  9 1909 1927 l. gallois, emm. de margerie, emm. de martonne, a. demangeon\n",
      "  9 1864 1880 caesaris baronii\n",
      "  9 1898 1898 American Unitarian Association\n",
      "  8 1875 1924 mark twain\n",
      "  8 1919 1919 ['Foster, Ellsworth D., ed', 'Hughes, James L. (James Laughlin), 1846-1935']\n",
      "  7 1911 1911 Smollett, Tobias George, 1721-1771\n",
      "  7 1878 1878 Methodist Episcopal Church. Woman's Foreign Missionary Society\n",
      "  6 1900 2023 Carroll, Lewis, 1832-1898\n",
      "  6 1877 1923 James, Henry, 1843-1916\n",
      "  6 1919 1926 Harry Schneiderman\n",
      "  6 1908 1912 Herbert Friedenwald\n",
      "  6 1921 1927 harry schneiderman\n",
      "  6 1836 1896 Burton, Robert, 1577-1640\n",
      "  6 1965 1965 ['Doumani, George A', 'Library of Congress. Science and Technology Division', 'National Science Foundation (U.S.)']\n",
      "  6 1884 1884 emanuelis swedenborgii\n",
      "  5 1926 1927 Carl Sandburg\n",
      "  5 1837 1839 Cattley, Stephen Reed\n",
      "  5 1921 1921 [New York, N.Y.] : Ronald Press Co.\n",
      "  5 1850 1911 Dickens, Charles, 1812-1870\n",
      "  5 1909 1913 herbert friedenwald\n",
      "  5 1915 1915 Historic Landmarks Association of Canada\n",
      "  4 1898 1898 Lehmann, Alfred, 1858-1921\n",
      "  4 1919 1924 Drinkwater, John, 1882-1937\n",
      "  4 1907 1924 Morgan, G. Campbell (George Campbell), 1863-1945\n",
      "  4 1871 1884 Parker, Joseph, 1830-1902\n",
      "  4 1891 1898 Drummond, Henry, 1851-1897\n",
      "  4 1906 1910 Grose, Howard B. (Howard Benjamin), 1851-1939\n",
      "  4 1899 1909 Stockton, Frank Richard, 1834-1902\n",
      "  4 1956 1991 United States. Dept. of Agriculture\n",
      "  4 1891 1902 John Fiske\n",
      "  4 1917 1917 Trevelyan, George Otto, Sir, 1838-1928\n",
      "  4 1896 1919 Fiske, John, 1842-1901\n",
      "  4 1850 1875 Butler, Joseph, 1692-1752\n",
      "  4 1905 1926 Seton, Ernest Thompson, 1860-1946\n",
      "  4 1906 1906 Alberta. Dept. of Agriculture\n",
      "  4 1819 1819 Methodist Episcopal Church. Missionary Society, corporate author\n",
      "  4 1869 1924 Sophocles\n",
      "  4 1873 1901 Luthardt, Chr. Ernst (Christoph Ernst), 1823-1902\n",
      "  4 1894 1897 Weizsäcker, Carl\n",
      "  3 1979 1993 Library of Congress\n"
     ]
    }
   ],
   "source": [
    "auths = sorted(list(creator_counts.keys()), key=lambda a: len(creator_counts[a]), reverse=True)\n",
    "print(f\"Total # of auths: {len(auths)}\\n\")\n",
    "for a in auths:\n",
    "    years = creator_counts[a]\n",
    "    print(f\"{len(years):>3} {min(years)} {max(years)} {a}\")\n",
    "    \n",
    "    if len(years) < 4:\n",
    "        break"
   ]
  },
  {
   "cell_type": "markdown",
   "id": "92e03b18",
   "metadata": {},
   "source": [
    "# Some notes on authors\n",
    "- It looks like there aren't many authors that are over-represented in the set.\n",
    "\n",
    "- 20% of the texts don't have an author name.\n",
    "\n",
    "- We can probably cap authors at 5-10 books and would only truncate major institutions (multiple authors)\n",
    "    - *Books by multiple authors could make interpretation more complicated?*\n",
    "\n",
    "- Some of these ranges appear objectively wrong. Look at Mark Twain on the list above. Twain died in 1910, but has books up to 1992 (must be reprints or posthumously published).\n",
    "\n",
    "- Also note that Twain is split across three author lables (\"Twain, Mark 1835-1910\", \"Mark Twain\", \"mark twain\"). This could possibly skew some authors dramatically.\n",
    "    - But twain being the only author that appears on this list as dramatically we should probably be fine ignoring this."
   ]
  },
  {
   "cell_type": "code",
   "execution_count": 67,
   "id": "123469be",
   "metadata": {},
   "outputs": [
    {
     "name": "stdout",
     "output_type": "stream",
     "text": [
      "total items: 4093\n"
     ]
    },
    {
     "data": {
      "image/png": "[encoded data removed]",
      "text/plain": [
       "<Figure size 640x480 with 1 Axes>"
      ]
     },
     "metadata": {},
     "output_type": "display_data"
    }
   ],
   "source": [
    "years = []\n",
    "for item in available:\n",
    "    if 'year' in item:\n",
    "        years.append(item['year'])\n",
    "\n",
    "print(f\"total items: {len(years)}\")\n",
    "\n",
    "plt.hist(years)\n",
    "plt.show()"
   ]
  },
  {
   "cell_type": "code",
   "execution_count": 68,
   "id": "8fc94ba7",
   "metadata": {},
   "outputs": [
    {
     "name": "stdout",
     "output_type": "stream",
     "text": [
      "total items: 4071\n"
     ]
    },
    {
     "data": {
      "image/png": "[encoded data removed]",
      "text/plain": [
       "<Figure size 640x480 with 1 Axes>"
      ]
     },
     "metadata": {},
     "output_type": "display_data"
    }
   ],
   "source": [
    "filtered = [x for x in years if x > 1750]\n",
    "print(f\"total items: {len(filtered)}\")\n",
    "\n",
    "plt.hist(filtered, bins=20)\n",
    "plt.show()"
   ]
  },
  {
   "cell_type": "code",
   "execution_count": null,
   "id": "d61c0255",
   "metadata": {},
   "outputs": [],
   "source": []
  }
 ],
 "metadata": {
  "kernelspec": {
   "display_name": "Python 3 (ipykernel)",
   "language": "python",
   "name": "python3"
  },
  "language_info": {
   "codemirror_mode": {
    "name": "ipython",
    "version": 3
   },
   "file_extension": ".py",
   "mimetype": "text/x-python",
   "name": "python",
   "nbconvert_exporter": "python",
   "pygments_lexer": "ipython3",
   "version": "3.10.9"
  }
 },
 "nbformat": 4,
 "nbformat_minor": 5
}
