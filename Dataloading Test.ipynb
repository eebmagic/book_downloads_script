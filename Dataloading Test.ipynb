{
 "cells": [
  {
   "cell_type": "code",
   "execution_count": 2,
   "id": "069b7a58",
   "metadata": {},
   "outputs": [],
   "source": [
    "import json\n",
    "import os"
   ]
  },
  {
   "cell_type": "code",
   "execution_count": 3,
   "id": "c1454c23",
   "metadata": {},
   "outputs": [],
   "source": [
    "def find_txt_files(dir_path):\n",
    "    txt_files = []\n",
    "    for root, dirs, files in os.walk(dir_path):\n",
    "        for file in files:\n",
    "            if file.endswith(\".txt\"):\n",
    "                file_path = os.path.join(root, file)\n",
    "                file_size = os.path.getsize(file_path)\n",
    "                ident = file_path.split('/')[-2]\n",
    "                txt_files.append((file_path, ident, file_size))\n",
    "    return txt_files"
   ]
  },
  {
   "cell_type": "code",
   "execution_count": 8,
   "id": "7931fb81",
   "metadata": {},
   "outputs": [
    {
     "name": "stdout",
     "output_type": "stream",
     "text": [
      "[{'identifier': '0-89178-034-0', 'creator': 'Saint Louis Art Museum', 'year': 1991, 'title': 'The Saint Louis Art Museum Handbook of the Collections'}, {'identifier': '0-89178-042-4', 'creator': 'Barbara Butts, Joseph Leo Koerner, Betha Whitlow, Pieter Bruegel, Saint Louis Art Museum, Arthur M. Sackler Museum', 'year': 1995, 'title': 'The Printed World of Pieter Bruegel the Elder'}, {'identifier': '0-89178-075-0', 'creator': 'Ann Lane Hedlund, Bill Pearson, Saint Louis Art Museum', 'year': 1997, 'title': 'Navajo Weavings from the Andy Williams Collection'}]\n",
      "4117294\n"
     ]
    }
   ],
   "source": [
    "with open('available_books.json') as file:\n",
    "    available = json.load(file)\n",
    "print(available[:3])\n",
    "print(len(available))"
   ]
  },
  {
   "cell_type": "code",
   "execution_count": 9,
   "id": "be70bb0f",
   "metadata": {},
   "outputs": [
    {
     "name": "stdout",
     "output_type": "stream",
     "text": [
      "[('./downloads/amazingmarriage0000unse_f1n3/amazingmarriage0000unse_f1n3_djvu.txt', 'amazingmarriage0000unse_f1n3', 930164), ('./downloads/proceedings0019unit/proceedings0019unit_djvu.txt', 'proceedings0019unit', 211151), ('./downloads/americancouncilo0000unse_g3x6/americancouncilo0000unse_g3x6_djvu.txt', 'americancouncilo0000unse_g3x6', 180075)]\n",
      "5051\n"
     ]
    }
   ],
   "source": [
    "# Get text files that are actually available\n",
    "files = find_txt_files('./downloads/')\n",
    "print(files[:3])\n",
    "print(len(files))"
   ]
  },
  {
   "cell_type": "code",
   "execution_count": 10,
   "id": "46c9bd7d",
   "metadata": {},
   "outputs": [
    {
     "name": "stdout",
     "output_type": "stream",
     "text": [
      "['amazingmarriage0000unse_f1n3', 'proceedings0019unit', 'americancouncilo0000unse_g3x6']\n",
      "5051\n"
     ]
    }
   ],
   "source": [
    "real_idents = [f[1] for f in files]\n",
    "print(real_idents[:3])\n",
    "real_idents = set(real_idents)\n",
    "print(len(real_idents))"
   ]
  },
  {
   "cell_type": "code",
   "execution_count": 12,
   "id": "b8538649",
   "metadata": {},
   "outputs": [
    {
     "name": "stdout",
     "output_type": "stream",
     "text": [
      "[{'identifier': '0-89178-034-0', 'creator': 'Saint Louis Art Museum', 'year': 1991, 'title': 'The Saint Louis Art Museum Handbook of the Collections'}, {'identifier': '0-89178-042-4', 'creator': 'Barbara Butts, Joseph Leo Koerner, Betha Whitlow, Pieter Bruegel, Saint Louis Art Museum, Arthur M. Sackler Museum', 'year': 1995, 'title': 'The Printed World of Pieter Bruegel the Elder'}, {'identifier': '0-89178-075-0', 'creator': 'Ann Lane Hedlund, Bill Pearson, Saint Louis Art Museum', 'year': 1997, 'title': 'Navajo Weavings from the Andy Williams Collection'}]\n",
      "5051\n"
     ]
    }
   ],
   "source": [
    "real_available = []\n",
    "for d in available:\n",
    "    if d['identifier'] in real_idents:\n",
    "        real_available.append(d)\n",
    "\n",
    "print(real_available[:3])\n",
    "print(len(real_available))"
   ]
  },
  {
   "cell_type": "code",
   "execution_count": 16,
   "id": "39e772c1",
   "metadata": {},
   "outputs": [],
   "source": [
    "# Save real table to file\n",
    "with open('real_table.json', 'w') as file:\n",
    "    json.dump(real_available, file)"
   ]
  },
  {
   "cell_type": "code",
   "execution_count": null,
   "id": "bf9c9f92",
   "metadata": {},
   "outputs": [],
   "source": []
  }
 ],
 "metadata": {
  "kernelspec": {
   "display_name": "Python 3 (ipykernel)",
   "language": "python",
   "name": "python3"
  },
  "language_info": {
   "codemirror_mode": {
    "name": "ipython",
    "version": 3
   },
   "file_extension": ".py",
   "mimetype": "text/x-python",
   "name": "python",
   "nbconvert_exporter": "python",
   "pygments_lexer": "ipython3",
   "version": "3.10.9"
  }
 },
 "nbformat": 4,
 "nbformat_minor": 5
}
